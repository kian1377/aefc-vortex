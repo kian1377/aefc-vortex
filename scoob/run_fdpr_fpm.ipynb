{
 "cells": [
  {
   "cell_type": "code",
   "execution_count": 1,
   "metadata": {},
   "outputs": [
    {
     "name": "stderr",
     "output_type": "stream",
     "text": [
      "/opt/conda/envs/km310env/lib/python3.10/site-packages/cupyx/jit/_interface.py:173: FutureWarning: cupyx.jit.rawkernel is experimental. The interface can change in the future.\n",
      "  cupy._util.experimental('cupyx.jit.rawkernel')\n"
     ]
    },
    {
     "name": "stdout",
     "output_type": "stream",
     "text": [
      "/home/kianmilani/Projects/scoob-interface/scoobi/scoobi.py\n",
      "/home/kianmilani/Projects/lina/lina/__init__.py\n"
     ]
    }
   ],
   "source": [
    "import numpy as np\n",
    "import astropy.units as u\n",
    "from astropy.io import fits\n",
    "import time \n",
    "from importlib import reload\n",
    "import copy\n",
    "from datetime import datetime\n",
    "today = int(datetime.today().strftime('%Y%m%d'))\n",
    "from IPython.display import clear_output\n",
    "\n",
    "import matplotlib.pyplot as plt\n",
    "from matplotlib.colors import LogNorm\n",
    "from matplotlib.patches import Circle, Rectangle\n",
    "\n",
    "import scoobi\n",
    "from scoobi.math_module import xp, _scipy, ensure_np_array\n",
    "from scoobi.imshows import imshow1, imshow2, imshow3\n",
    "import scoobi.scoobi as scoobi\n",
    "import scoobi.utils as utils\n",
    "\n",
    "import lina\n",
    "\n",
    "print(scoobi.__file__)\n",
    "print(lina.__file__)\n",
    "\n",
    "import purepyindi\n",
    "from purepyindi import INDIClient\n",
    "import purepyindi2\n",
    "from purepyindi2 import IndiClient\n",
    "\n",
    "client0 = INDIClient('localhost', 7624)\n",
    "client0.start()\n",
    "\n",
    "client = IndiClient()\n",
    "client.connect()\n",
    "client.get_properties()\n",
    "\n",
    "def restart_clients():\n",
    "    client0 = INDIClient('localhost', 7624)\n",
    "    client0.start()\n",
    "\n",
    "    client = IndiClient()\n",
    "    client.connect()\n",
    "    client.get_properties()"
   ]
  },
  {
   "cell_type": "code",
   "execution_count": 14,
   "metadata": {},
   "outputs": [],
   "source": [
    "reload(scoobi)\n",
    "I = scoobi.SCOOBI(scicam_channel='camsci', dm_channel='dm00disp03')\n",
    "I.npsf = 256"
   ]
  },
  {
   "cell_type": "code",
   "execution_count": 5,
   "metadata": {},
   "outputs": [],
   "source": [
    "reload(scoobi)\n",
    "xc, yc = (4600, 3400)\n",
    "xc, yc = (4500, 3300)\n",
    "npsf = 256\n",
    "scoobi.set_zwo_roi(xc, yc, npsf, client0)\n"
   ]
  },
  {
   "cell_type": "code",
   "execution_count": null,
   "metadata": {},
   "outputs": [
    {
     "name": "stdout",
     "output_type": "stream",
     "text": [
      "Set the ZWO exposure time to 5.00e-04s\n"
     ]
    }
   ],
   "source": [
    "I.set_zwo_exp_time(0.0005, client0)"
   ]
  },
  {
   "cell_type": "code",
   "execution_count": null,
   "metadata": {},
   "outputs": [
    {
     "name": "stdout",
     "output_type": "stream",
     "text": [
      "Set the ZWO gain setting to 120.0\n"
     ]
    }
   ],
   "source": [
    "I.set_zwo_gain(120, client0)"
   ]
  },
  {
   "cell_type": "code",
   "execution_count": null,
   "metadata": {},
   "outputs": [
    {
     "name": "stdout",
     "output_type": "stream",
     "text": [
      "Set the fiber attenuation to 34.0\n"
     ]
    }
   ],
   "source": [
    "I.set_fib_atten(34, client)"
   ]
  },
  {
   "cell_type": "code",
   "execution_count": null,
   "metadata": {},
   "outputs": [],
   "source": [
    "scoobi.move_psf(50, 0, client0)"
   ]
  },
  {
   "cell_type": "code",
   "execution_count": null,
   "metadata": {},
   "outputs": [],
   "source": [
    "scoobi.move_psf(0, -50, client0)"
   ]
  },
  {
   "cell_type": "markdown",
   "metadata": {},
   "source": [
    "# Run FDPR2"
   ]
  },
  {
   "cell_type": "code",
   "execution_count": null,
   "metadata": {},
   "outputs": [],
   "source": [
    "from magpyx.utils import ImageStream\n",
    "fdpr2_amp_stream = ImageStream('fdpr2_amp')\n",
    "fdpr2_phs_stream = ImageStream('fdpr2_phase')"
   ]
  },
  {
   "cell_type": "code",
   "execution_count": null,
   "metadata": {},
   "outputs": [],
   "source": [
    "reload(lina.utils)\n",
    "\n",
    "ring_13 = lina.utils.make_ring(rad=13, Nact=34)\n",
    "ring_14 = lina.utils.make_ring(rad=14, Nact=34)\n",
    "ring_15 = lina.utils.make_ring(rad=15, Nact=34)\n",
    "ring_16 = lina.utils.make_ring(rad=16, Nact=34)\n",
    "imshow3(ring_14, ring_15, ring_16)\n",
    "\n",
    "cross = lina.utils.make_cross_command(xc=[-1, 3], yc=[2,-2])\n",
    "\n",
    "poke = np.zeros((34,34))\n",
    "poke[17,17] = 1\n",
    "# poke[25,17] = 1\n",
    "# poke[26,19] = 1\n",
    "imshow2(cross, poke)"
   ]
  },
  {
   "cell_type": "code",
   "execution_count": null,
   "metadata": {},
   "outputs": [],
   "source": [
    "amp = 20e-9\n",
    "command = amp*ring_15\n",
    "\n",
    "I.add_dm(command)"
   ]
  },
  {
   "cell_type": "code",
   "execution_count": null,
   "metadata": {},
   "outputs": [],
   "source": [
    "from magpyx.fdpr2 import console, tools\n",
    "\n",
    "config_params = tools.Configuration('fdpr2_fpm')\n",
    "# config_params = tools.Configuration('fdpr2_kilo_dmdiv_km')\n",
    "\n",
    "fitdict, Imeas_cen = console.estimate_oneshot(config_params)\n",
    "I.zero_dm()\n",
    "\n",
    "fitdict.update({\n",
    "    'AMP':fdpr2_amp_stream.grab_latest(),\n",
    "    'PHS':fdpr2_phs_stream.grab_latest(),\n",
    "    'dm_command':command,\n",
    "    'Imeas':Imeas_cen, \n",
    "})\n",
    "\n",
    "imshow2(fitdict['AMP'], fitdict['PHS'], npix=100)"
   ]
  },
  {
   "cell_type": "code",
   "execution_count": null,
   "metadata": {},
   "outputs": [],
   "source": [
    "utils.save_pickle('fdpr2_ref.pkl', fitdict)"
   ]
  }
 ],
 "metadata": {
  "kernelspec": {
   "display_name": "km310env",
   "language": "python",
   "name": "python3"
  },
  "language_info": {
   "codemirror_mode": {
    "name": "ipython",
    "version": 3
   },
   "file_extension": ".py",
   "mimetype": "text/x-python",
   "name": "python",
   "nbconvert_exporter": "python",
   "pygments_lexer": "ipython3",
   "version": "3.10.14"
  }
 },
 "nbformat": 4,
 "nbformat_minor": 2
}
